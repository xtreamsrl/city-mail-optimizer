{
 "cells": [
  {
   "cell_type": "markdown",
   "id": "0",
   "metadata": {},
   "source": [
    "# Mail delivery optimisation\n",
    "\n",
    "We are a two-person team working in the data department of a company that delivers mail.\n",
    "\n",
    "Our task is to develop a software tool for couriers to help them plan their daily routes, optimizing for the specific mail they need to deliver each day.\n",
    "\n",
    "Gabri, a data scientist, is responsible for designing and implementing the solution algorithm. This algorithm should take a list of delivery addresses as input and generates the most efficient driving route as output.\n",
    "\n",
    "Fabio, an engineer, takes Gabri's prototype and transforms it into a fully functional application that couriers can use in their day-to-day work.\n",
    "\n",
    "This notebook documents Gabri's process, from initial research on route optimization to developing an effective solution to the problem."
   ]
  },
  {
   "cell_type": "markdown",
   "id": "1",
   "metadata": {
    "jp-MarkdownHeadingCollapsed": true
   },
   "source": [
    "## Jupyter Notebooks\n"
   ]
  },
  {
   "cell_type": "markdown",
   "id": "2",
   "metadata": {},
   "source": [
    "A Jupyter Notebook is a tool that lets you write and run Python code in small sections (called cells) one at a time, instead of running the entire program all at once. It's like having a workbook where you can write code, test it, and immediately see the results. Alongside the code, you can also write text to explain what your code does, include math equations, and even display graphs or tables.\n",
    "\n",
    "Jupyter notebooks have some interesting features for programmers and data scientists alike, which make it the preferred choice for analyses and prototyping.\n",
    "\n",
    "### Interactive Coding\n",
    "You can run parts of your code step by step and instantly see the output.\n",
    "If you make a mistake, you don’t need to restart everything—just fix that part and run it again.\n",
    "\n",
    "### Easy for Learning and Experimenting\n",
    "You can try out ideas quickly without writing a full script.\n",
    "It's a great way to learn because you can mix code and explanations in one place.\n",
    "\n",
    "### Mixing Code and Text\n",
    "You can write comments and explanations in text cells using Markdown (a simple way to format text).\n",
    "This is useful for teaching, documentation, or personal notes.\n",
    "\n",
    "### Visualization\n",
    "Jupyter makes it easy to show graphs, images, or data tables right next to the code that created them.\n",
    "Libraries like matplotlib or pandas work seamlessly.\n",
    "\n",
    "### Sharing and Collaboration\n",
    "Jupyter Notebooks can be shared as files or links. Other people can open them, run the code, and see the results, making them great for teamwork.\n",
    "\n",
    "### No Need for Separate IDEs\n",
    "It runs in a browser but doesn’t need the internet. You don’t need extra software like a code editor to start."
   ]
  },
  {
   "cell_type": "markdown",
   "id": "3",
   "metadata": {
    "jp-MarkdownHeadingCollapsed": true
   },
   "source": [
    "## The problem: Traveling Salesman"
   ]
  },
  {
   "cell_type": "markdown",
   "id": "4",
   "metadata": {},
   "source": [
    "The problem we are facing is a well-known one, usually called **Traveling Salesman Problem (TSP)**.\n",
    "\n",
    "The **Traveling Salesman Problem (TSP)** is a classic optimization task in which a \"salesman\" must visit a set of cities, starting and ending at the same city, while minimizing the total distance (or cost) traveled. The challenge is to find the shortest possible route that visits each city exactly once. \n",
    "\n",
    "### Why is it Hard?\n",
    "\n",
    "1. **Combinatorial Explosion**:  \n",
    "   - For \\(n\\) cities, the number of possible routes grows extremely quickly. Specifically, there are \\((n-1)!\\) (factorial) possible routes to consider, making the problem computationally infeasible to solve exactly for large numbers of cities.\n",
    "\n",
    "   Example:  \n",
    "   - With 4 cities, there are \\(6\\) routes.  \n",
    "   - With 10 cities, there are \\(362,880\\) routes!  \n",
    "   - For 50 cities, there are more routes than there are atoms in the universe.\n",
    "\n",
    "2. **NP-Hard Nature**:  \n",
    "   - TSP belongs to a class of problems known as **NP-Hard**, meaning there is no known efficient algorithm to guarantee the best solution for all cases as the problem size grows. \n",
    "\n",
    "3. **Real-World Constraints**:  \n",
    "   - Real-world versions of the TSP often include additional complexities like road conditions, time windows, or vehicle capacities, which make it even harder to solve.\n",
    "\n",
    "### Why is it Important?\n",
    "\n",
    "1. **Practical Applications**:  \n",
    "   TSP isn’t just about cities and salesmen—it appears in various real-world problems, such as:\n",
    "   - **Logistics**: Planning delivery routes for couriers or trucks.\n",
    "   - **Manufacturing**: Optimizing the movement of robotic arms in factories.\n",
    "   - **DNA Sequencing**: Finding the shortest path through genetic data.\n",
    "\n",
    "2. **Foundation for Other Problems**:  \n",
    "   - Solving or approximating TSP helps in understanding and tackling many other optimization tasks.\n",
    "\n",
    "3. **Economic Impact**:  \n",
    "   - Efficient solutions save time, money, and resources in industries like transportation, supply chain management, and telecommunications."
   ]
  },
  {
   "cell_type": "markdown",
   "id": "5",
   "metadata": {
    "jp-MarkdownHeadingCollapsed": true
   },
   "source": [
    "## How to approach a project like this"
   ]
  },
  {
   "cell_type": "markdown",
   "id": "6",
   "metadata": {},
   "source": [
    "So we know that the problem is basically impossible to solve ourselves, since it is a well-known mathematical puzzle which many academics have been working on for decades.\n",
    "\n",
    "Nonetheless, it being a very practical problem as well, we are hopeful in finding some reasonable solution that may be good enough for practical uses, and most importantly a solution that has already been implemented by someone else!\n",
    "\n",
    "The first part of a project like this, indeed, should be a thorough review of existing literature about the problem, its domain, its modeling and the approaches to solve it.\n",
    "\n",
    "For the purpose of this workshop, we can limit ourselves to the [Wikipedia page](https://en.wikipedia.org/wiki/Travelling_salesman_problem) of the problem.\n",
    "\n",
    "From Wikipedia, \"the traditional lines of attack for the NP-hard problems are the following:\n",
    "\n",
    "1. Devising exact algorithms, which work reasonably fast only for small problem sizes.\n",
    "2. Devising \"suboptimal\" or heuristic algorithms, i.e., algorithms that deliver approximated solutions in a reasonable time.\n",
    "3. Finding special cases for the problem (\"subproblems\") for which either better or exact heuristics are possible.\"\n",
    "\n",
    "Our company tells us the solution to the problem should be fully generalisable to all locations where the company delivers mail, and should be able to handle hundreds of delivery destinations at once, since this is the order of magnitude of a daily workload.\n",
    "\n",
    "In light of this, we can immediately discard approaches 1 and 3, and the only remaining course of action is to find a reasonable approximated but general solution."
   ]
  },
  {
   "cell_type": "markdown",
   "id": "7",
   "metadata": {},
   "source": [
    "## On the shoulder of giants: NetworkX"
   ]
  },
  {
   "cell_type": "markdown",
   "id": "8",
   "metadata": {},
   "source": [
    "\n",
    ">  **\"If I have seen further, it is by standing on the shoulders of giants.\"** Sir Isaac Newton\n",
    "\n",
    "By googling \"python traveling salesman approximate solution\" we find a bunch of tutorials that can be really useful to study; some of them build the code from scratch, and this is fine, but others seem to reference a Python library called [networkx](https://networkx.org/), which is a famous Python library for graphs.\n",
    "\n",
    "\n",
    "Networkx is well-documented and used by everyone, boasting almost 15k stars on [GitHub](https://github.com/networkx/networkx).\n",
    "\n",
    "It contains many tools for modeling objects as graphs and implements graph-theoretic algorithms for solving various problems with them.\n",
    "\n",
    "After scrabbling for a bit inside the documentation, we finally find the [traveling_salesman_problem](https://networkx.org/documentation/stable/reference/algorithms/generated/networkx.algorithms.approximation.traveling_salesman.traveling_salesman_problem.html) function:"
   ]
  },
  {
   "cell_type": "code",
   "execution_count": null,
   "id": "9",
   "metadata": {},
   "outputs": [],
   "source": [
    "import networkx as nx"
   ]
  },
  {
   "cell_type": "code",
   "execution_count": null,
   "id": "10",
   "metadata": {},
   "outputs": [],
   "source": [
    "from networkx.algorithms.approximation import traveling_salesman_problem\n",
    "\n",
    "help(traveling_salesman_problem)"
   ]
  },
  {
   "cell_type": "markdown",
   "id": "11",
   "metadata": {
    "jp-MarkdownHeadingCollapsed": true
   },
   "source": [
    "## The missing piece: OSMNX\n",
    "\n",
    "We have a solving tool, but we need to feed a graph to it. If only there was a way to create a faithful graph representation of a city!\n",
    "\n",
    "By looking around a bit more, we stumble upon [osmnx](https://osmnx.readthedocs.io/en/stable/user-reference.html). From its docs:\n",
    ">OSMnx is a Python package to easily download, model, analyze, and visualize street networks and other geospatial features from OpenStreetMap.\n",
    "\n",
    "With almost 5k stars on [GitHub](https://github.com/gboeing/osmnx), osmnx looks promising: it includes all the graph stuff from networkx, and it also has geo-spatial functionalities that will allow us to avoid having to build the city graph ourselves!\n",
    "\n",
    "Let's explore:"
   ]
  },
  {
   "cell_type": "code",
   "execution_count": null,
   "id": "12",
   "metadata": {},
   "outputs": [],
   "source": [
    "import osmnx as ox"
   ]
  },
  {
   "cell_type": "code",
   "execution_count": null,
   "id": "13",
   "metadata": {},
   "outputs": [],
   "source": [
    "gdf = ox.features_from_place(\"Varese, Lombardia, Italy\", {\"building\": True})\n",
    "gdf"
   ]
  },
  {
   "cell_type": "markdown",
   "id": "14",
   "metadata": {},
   "source": [
    "The data that osmnx retrieves from openstreetmap is saved in a `GeoDataFrame`, the basic object from [geopandas](https://geopandas.org/en/stable/) used for storing geospatial data."
   ]
  },
  {
   "cell_type": "code",
   "execution_count": null,
   "id": "15",
   "metadata": {},
   "outputs": [],
   "source": [
    "type(gdf)"
   ]
  },
  {
   "cell_type": "markdown",
   "id": "16",
   "metadata": {},
   "source": [
    "osmnx also has very rich plotting functionalities, built upon the classic plotting library [matplotlib](https://matplotlib.org/):"
   ]
  },
  {
   "cell_type": "code",
   "execution_count": null,
   "id": "17",
   "metadata": {},
   "outputs": [],
   "source": [
    "fig, ax = ox.plot_footprints(gdf, color=\"brown\", bgcolor=\"white\")"
   ]
  },
  {
   "cell_type": "markdown",
   "id": "18",
   "metadata": {},
   "source": [
    "We managed to easily download, store and plot geospatial data about buildings in our target city of Varese. Pretty cool!"
   ]
  },
  {
   "cell_type": "markdown",
   "id": "19",
   "metadata": {},
   "source": [
    "## The city as a graph"
   ]
  },
  {
   "cell_type": "markdown",
   "id": "20",
   "metadata": {},
   "source": [
    "Now let's see if we can retrieve the city streets network instead:"
   ]
  },
  {
   "cell_type": "code",
   "execution_count": null,
   "id": "21",
   "metadata": {},
   "outputs": [],
   "source": [
    "G = ox.graph_from_address(\n",
    "    address=\"Piazzale Trento, Varese, Italy\",\n",
    "    dist=2000,\n",
    "    dist_type=\"network\",\n",
    "    network_type=\"drive\",\n",
    ")"
   ]
  },
  {
   "cell_type": "markdown",
   "id": "22",
   "metadata": {},
   "source": [
    "From the documentation we understand that we are retrieving a 2000m box centered around an address: this will be the simulated location of the post office warehouse, where the mail is stored and picked up daily by our postman."
   ]
  },
  {
   "cell_type": "markdown",
   "id": "23",
   "metadata": {},
   "source": [
    "We can see that now the downloaded object is a networkx `MultiDiGraph`, i.e. a representation of a Graph which is a directed graph (because streets have a traffic direction) and also a multigraph (because there can be multiple streets linking two intersections):"
   ]
  },
  {
   "cell_type": "code",
   "execution_count": null,
   "id": "24",
   "metadata": {},
   "outputs": [],
   "source": [
    "type(G)"
   ]
  },
  {
   "cell_type": "code",
   "execution_count": null,
   "id": "25",
   "metadata": {},
   "outputs": [],
   "source": [
    "node_list = list(G.nodes())"
   ]
  },
  {
   "cell_type": "markdown",
   "id": "26",
   "metadata": {},
   "source": [
    "We can also see that nodes are referenced using integer numbers:"
   ]
  },
  {
   "cell_type": "code",
   "execution_count": null,
   "id": "27",
   "metadata": {},
   "outputs": [],
   "source": [
    "node_list[:10]"
   ]
  },
  {
   "cell_type": "markdown",
   "id": "28",
   "metadata": {},
   "source": [
    "Again, the plotting functionality gives us a nice visualization of our network:"
   ]
  },
  {
   "cell_type": "code",
   "execution_count": null,
   "id": "29",
   "metadata": {},
   "outputs": [],
   "source": [
    "fig, ax = ox.plot_graph(G)"
   ]
  },
  {
   "cell_type": "markdown",
   "id": "30",
   "metadata": {},
   "source": [
    "But we can also get back the geospatial information from the graph:"
   ]
  },
  {
   "cell_type": "code",
   "execution_count": null,
   "id": "31",
   "metadata": {},
   "outputs": [],
   "source": [
    "node_gdf, edge_gdf = ox.graph_to_gdfs(G)"
   ]
  },
  {
   "cell_type": "code",
   "execution_count": null,
   "id": "32",
   "metadata": {},
   "outputs": [],
   "source": [
    "node_gdf.head(5)"
   ]
  },
  {
   "cell_type": "code",
   "execution_count": null,
   "id": "33",
   "metadata": {},
   "outputs": [],
   "source": [
    "edge_gdf.head(5)"
   ]
  },
  {
   "cell_type": "markdown",
   "id": "34",
   "metadata": {},
   "source": [
    "## Let's solve a problem!"
   ]
  },
  {
   "cell_type": "markdown",
   "id": "35",
   "metadata": {},
   "source": [
    "In order to assess the efficacy of this library for our purposes, let's select some destinations at random and try solving the problem for them.\n",
    "\n",
    "We'll assume that all destinations lie at street intersections; this makes the code easier, since we already have them as nodes, but it can be generalised easily with destinations lying on graph edges.\n",
    "\n",
    "We also use a random seed to ensure reproducibility."
   ]
  },
  {
   "cell_type": "code",
   "execution_count": null,
   "id": "36",
   "metadata": {},
   "outputs": [],
   "source": [
    "import random\n",
    "from random import sample\n",
    "\n",
    "random.seed(1)\n",
    "starting_node = list(G.nodes)[0]\n",
    "destination_nodes = sample(node_list, 8)\n",
    "delivery_nodes = [starting_node] + destination_nodes"
   ]
  },
  {
   "cell_type": "code",
   "execution_count": null,
   "id": "37",
   "metadata": {},
   "outputs": [],
   "source": [
    "delivery_nodes"
   ]
  },
  {
   "cell_type": "markdown",
   "id": "38",
   "metadata": {},
   "source": [
    "We can use `osmnx` plotting functionalities to highlight the starting point and the delivery points on the map:"
   ]
  },
  {
   "cell_type": "code",
   "execution_count": null,
   "id": "39",
   "metadata": {},
   "outputs": [],
   "source": [
    "ox.plot.plot_graph(\n",
    "    G,\n",
    "    node_color=[\n",
    "        \"blue\" if n == starting_node else \"red\" if n in delivery_nodes else \"white\"\n",
    "        for n in G.nodes()\n",
    "    ],\n",
    "    node_alpha=[1 if n in delivery_nodes else 0.5 for n in G.nodes()],\n",
    "    node_size=[\n",
    "        100 if n == starting_node else 50 if n in delivery_nodes else 20\n",
    "        for n in G.nodes()\n",
    "    ],\n",
    ")"
   ]
  },
  {
   "cell_type": "markdown",
   "id": "40",
   "metadata": {},
   "source": [
    "As we mentioned before, the problem we are facing is called **Traveling salesman problem** and it is famously hard.\n",
    "\n",
    "Let's see what `networkx` is capable of with its `traveling_salesman_problem` function:"
   ]
  },
  {
   "cell_type": "code",
   "execution_count": null,
   "id": "41",
   "metadata": {},
   "outputs": [],
   "source": [
    "best_route = traveling_salesman_problem(\n",
    "    G,\n",
    "    nodes=delivery_nodes,\n",
    "    cycle=True,\n",
    "    method=nx.approximation.simulated_annealing_tsp,\n",
    "    init_cycle=\"greedy\",\n",
    "    seed=1,\n",
    ")"
   ]
  },
  {
   "cell_type": "markdown",
   "id": "42",
   "metadata": {},
   "source": [
    "## The inevitable errors"
   ]
  },
  {
   "cell_type": "markdown",
   "id": "43",
   "metadata": {},
   "source": [
    "Huh? This is a horrible error!\n",
    "\n",
    "`NetworkXError: G is not strongly connected`\n",
    "\n",
    "By inspecting the *stack trace* we see that the code breaks by raising a custom `NetworkXError` after failing the following check:"
   ]
  },
  {
   "cell_type": "code",
   "execution_count": null,
   "id": "44",
   "metadata": {},
   "outputs": [],
   "source": [
    "nx.is_strongly_connected(G)"
   ]
  },
  {
   "cell_type": "markdown",
   "id": "45",
   "metadata": {},
   "source": [
    "As it turns out, the street network of the area we selected is not [**strongly connected**](https://en.wikipedia.org/wiki/Strongly_connected_component#:~:text=A%20directed%20graph%20is%20called,second%20vertex%20to%20the%20first.), meaning that there is at least a pair of nodes that cannot be linked.\n",
    "\n",
    "This property is necessary for the solvability of a routing problem such as the TSP.\n",
    "\n",
    "In practical terms, this means that there are two points in the area that cannot be connected by driving from one to the other.\n",
    "\n",
    "This should be investigated but it's probably an artifact caused by some mapping error or due to some minor driveway; in any case, for our purposes we can \"clean\" the graph by removing all disconnected components except the main one, which still resembles our original map:"
   ]
  },
  {
   "cell_type": "code",
   "execution_count": null,
   "id": "46",
   "metadata": {},
   "outputs": [],
   "source": [
    "G_conn = ox.truncate.largest_component(G, strongly=True)\n",
    "nx.is_strongly_connected(G_conn)"
   ]
  },
  {
   "cell_type": "code",
   "execution_count": null,
   "id": "47",
   "metadata": {},
   "outputs": [],
   "source": [
    "fig, ax = ox.plot_graph(G_conn)"
   ]
  },
  {
   "cell_type": "markdown",
   "id": "48",
   "metadata": {},
   "source": [
    "We should be ready now to try and solve the problem! Let's try again:"
   ]
  },
  {
   "cell_type": "code",
   "execution_count": null,
   "id": "49",
   "metadata": {},
   "outputs": [],
   "source": [
    "%%time\n",
    "best_route = traveling_salesman_problem(\n",
    "    G_conn,\n",
    "    nodes=delivery_nodes,\n",
    "    cycle=True,\n",
    "    method=nx.approximation.simulated_annealing_tsp,\n",
    "    init_cycle=\"greedy\",\n",
    "    seed=1,\n",
    ")"
   ]
  },
  {
   "cell_type": "code",
   "execution_count": null,
   "id": "50",
   "metadata": {},
   "outputs": [],
   "source": [
    "best_route"
   ]
  },
  {
   "cell_type": "markdown",
   "id": "51",
   "metadata": {},
   "source": [
    "## Post-processing and visualisation"
   ]
  },
  {
   "cell_type": "markdown",
   "id": "52",
   "metadata": {},
   "source": [
    "The output format of the solving function is the list of nodes that the salesman (postman) needs to traverse.\n",
    "\n",
    "We notice that the first one is not the starting point, since there is no way to specify it in the solving function:"
   ]
  },
  {
   "cell_type": "code",
   "execution_count": null,
   "id": "53",
   "metadata": {},
   "outputs": [],
   "source": [
    "best_route[:5]"
   ]
  },
  {
   "cell_type": "markdown",
   "id": "54",
   "metadata": {},
   "source": [
    "But we added the starting point as a destination to visit, so we can reorder the best route to make it start from there:"
   ]
  },
  {
   "cell_type": "code",
   "execution_count": null,
   "id": "55",
   "metadata": {},
   "outputs": [],
   "source": [
    "def reorder_route(route: list[int], starting_node: int) -> list[int]:\n",
    "    return (\n",
    "        route[route.index(starting_node) : -1]\n",
    "        + route[: route.index(starting_node)]\n",
    "        + [starting_node]\n",
    "    )"
   ]
  },
  {
   "cell_type": "code",
   "execution_count": null,
   "id": "56",
   "metadata": {},
   "outputs": [],
   "source": [
    "best_route_reordered = reorder_route(best_route, starting_node)"
   ]
  },
  {
   "cell_type": "code",
   "execution_count": null,
   "id": "57",
   "metadata": {},
   "outputs": [],
   "source": [
    "best_route_reordered[:5]"
   ]
  },
  {
   "cell_type": "markdown",
   "id": "58",
   "metadata": {},
   "source": [
    "and now we can visualize the best route again using a convenient plotting function:"
   ]
  },
  {
   "cell_type": "code",
   "execution_count": null,
   "id": "59",
   "metadata": {},
   "outputs": [],
   "source": [
    "ox.plot.plot_graph_route(\n",
    "    G_conn,\n",
    "    best_route_reordered,\n",
    "    route_color=\"green\",\n",
    "    route_linewidth=4,\n",
    "    route_alpha=0.5,\n",
    "    orig_dest_size=4,\n",
    "    node_color=[\n",
    "        \"blue\" if n == starting_node else \"red\" if n in delivery_nodes else \"white\"\n",
    "        for n in G_conn.nodes()\n",
    "    ],\n",
    "    node_alpha=[1 if n in delivery_nodes else 0.5 for n in G_conn.nodes()],\n",
    "    node_size=[\n",
    "        100 if n == starting_node else 50 if n in delivery_nodes else 20\n",
    "        for n in G_conn.nodes()\n",
    "    ],\n",
    ")"
   ]
  },
  {
   "cell_type": "markdown",
   "id": "60",
   "metadata": {},
   "source": [
    "Not bad! We can't know if the solution is the optimal one or even how suboptimal it is, but it looks reasonable enough and not at all obvious."
   ]
  },
  {
   "cell_type": "markdown",
   "id": "61",
   "metadata": {},
   "source": [
    "## Going a step further"
   ]
  },
  {
   "cell_type": "markdown",
   "id": "62",
   "metadata": {},
   "source": [
    "Well now we have a nice and usable solution, but `osmnx` is really cool and we want to do some more exploration of its features.\n",
    "\n",
    "For example, by inspecting the data associated to each edge in the graph, we see that by it attached by default some interesting stuff when it downloaded the map:"
   ]
  },
  {
   "cell_type": "code",
   "execution_count": null,
   "id": "63",
   "metadata": {},
   "outputs": [],
   "source": [
    "G_conn.get_edge_data(*list(G.edges)[0])"
   ]
  },
  {
   "cell_type": "markdown",
   "id": "64",
   "metadata": {},
   "source": [
    "If each edge has speed limits (`maxspeed`) and `length` attributes, we could use them to compute the time it takes to traverse each street, and then use this time as a goal for the TSP optimisation.\n",
    "\n",
    "After all, in real life we don't actually aim at optimising the number of streets our postman has to drive through, but rather the time it takes to deliver all the mail!\n",
    "\n",
    "And lo and behold, once again there's a function in `osmnx` that does this for us: `add_edge_travel_times`."
   ]
  },
  {
   "cell_type": "code",
   "execution_count": null,
   "id": "65",
   "metadata": {},
   "outputs": [],
   "source": [
    "help(ox.routing.add_edge_travel_times)"
   ]
  },
  {
   "cell_type": "markdown",
   "id": "66",
   "metadata": {},
   "source": [
    "Following the documentation, we should execute the following two functions to get what we want:"
   ]
  },
  {
   "cell_type": "code",
   "execution_count": null,
   "id": "67",
   "metadata": {},
   "outputs": [],
   "source": [
    "G_conn = ox.routing.add_edge_speeds(G_conn)\n",
    "G_conn = ox.routing.add_edge_travel_times(G_conn)"
   ]
  },
  {
   "cell_type": "markdown",
   "id": "68",
   "metadata": {},
   "source": [
    "Now `speed_kph` and `travel_time` are added to the edges' data dictionaries..."
   ]
  },
  {
   "cell_type": "code",
   "execution_count": null,
   "id": "69",
   "metadata": {},
   "outputs": [],
   "source": [
    "G_conn.get_edge_data(*list(G.edges)[0])"
   ]
  },
  {
   "cell_type": "markdown",
   "id": "70",
   "metadata": {},
   "source": [
    "... and we can pass the name of the attribute we want to use as weight, i.e. `travel_time`, to the algorithm:"
   ]
  },
  {
   "cell_type": "code",
   "execution_count": null,
   "id": "71",
   "metadata": {},
   "outputs": [],
   "source": [
    "%%time\n",
    "best_route_weighted = traveling_salesman_problem(\n",
    "    G_conn,\n",
    "    nodes=delivery_nodes,\n",
    "    weight=\"travel_time\",\n",
    "    cycle=True,\n",
    "    method=nx.approximation.simulated_annealing_tsp,\n",
    "    init_cycle=\"greedy\",\n",
    "    seed=1,\n",
    ")"
   ]
  },
  {
   "cell_type": "markdown",
   "id": "72",
   "metadata": {},
   "source": [
    "Again, let's reorder the solution and plot it."
   ]
  },
  {
   "cell_type": "code",
   "execution_count": null,
   "id": "73",
   "metadata": {},
   "outputs": [],
   "source": [
    "best_route_weighted_reordered = reorder_route(best_route_weighted, starting_node)"
   ]
  },
  {
   "cell_type": "code",
   "execution_count": null,
   "id": "74",
   "metadata": {},
   "outputs": [],
   "source": [
    "ox.plot.plot_graph_route(\n",
    "    G_conn,\n",
    "    best_route_weighted_reordered,\n",
    "    route_color=\"orange\",\n",
    "    route_linewidth=4,\n",
    "    route_alpha=0.5,\n",
    "    orig_dest_size=4,\n",
    "    node_color=[\n",
    "        \"blue\" if n == starting_node else \"red\" if n in delivery_nodes else \"white\"\n",
    "        for n in G_conn.nodes()\n",
    "    ],\n",
    "    node_alpha=[1 if n in delivery_nodes else 0.5 for n in G_conn.nodes()],\n",
    "    node_size=[\n",
    "        100 if n == starting_node else 50 if n in delivery_nodes else 20\n",
    "        for n in G_conn.nodes()\n",
    "    ],\n",
    ")"
   ]
  },
  {
   "cell_type": "markdown",
   "id": "75",
   "metadata": {},
   "source": [
    "Finally, let's compare the two solutions to see if they are any different:"
   ]
  },
  {
   "cell_type": "code",
   "execution_count": null,
   "id": "76",
   "metadata": {},
   "outputs": [],
   "source": [
    "ox.plot.plot_graph_routes(\n",
    "    G_conn,\n",
    "    [best_route_reordered, best_route_weighted_reordered],\n",
    "    route_colors=[\"green\", \"orange\"],\n",
    "    route_linewidth=4,\n",
    "    route_alpha=0.5,\n",
    "    orig_dest_size=4,\n",
    "    node_color=[\n",
    "        \"blue\" if n == starting_node else \"red\" if n in delivery_nodes else \"white\"\n",
    "        for n in G_conn.nodes()\n",
    "    ],\n",
    "    node_alpha=[1 if n in delivery_nodes else 0.5 for n in G_conn.nodes()],\n",
    "    node_size=[\n",
    "        100 if n == starting_node else 50 if n in delivery_nodes else 20\n",
    "        for n in G_conn.nodes()\n",
    "    ],\n",
    ")"
   ]
  },
  {
   "cell_type": "markdown",
   "id": "77",
   "metadata": {},
   "source": [
    "Even though these are approximate solutions and we are not exactly able to evaluate their quality just by looking at them, it's still interesting to be able to pick up some of the differences: for example, the eastern section of the route seems to be longer in the standard \"topological\" solution compared to the weighted \"geographical\" one, where travel times favor passing through more central streets."
   ]
  },
  {
   "cell_type": "markdown",
   "id": "78",
   "metadata": {},
   "source": [
    "What would our next steps be if we wanted to get an even better solutions?"
   ]
  },
  {
   "cell_type": "code",
   "execution_count": null,
   "id": "79",
   "metadata": {},
   "outputs": [],
   "source": []
  }
 ],
 "metadata": {
  "kernelspec": {
   "display_name": "Python 3 (ipykernel)",
   "language": "python",
   "name": "python3"
  },
  "language_info": {
   "codemirror_mode": {
    "name": "ipython",
    "version": 3
   },
   "file_extension": ".py",
   "mimetype": "text/x-python",
   "name": "python",
   "nbconvert_exporter": "python",
   "pygments_lexer": "ipython3",
   "version": "3.11.4"
  }
 },
 "nbformat": 4,
 "nbformat_minor": 5
}
