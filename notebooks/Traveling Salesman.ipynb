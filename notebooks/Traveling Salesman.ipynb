{
 "cells": [
  {
   "cell_type": "code",
   "execution_count": null,
   "id": "0",
   "metadata": {},
   "outputs": [],
   "source": [
    "import osmnx as ox\n",
    "import networkx as nx"
   ]
  },
  {
   "cell_type": "markdown",
   "id": "1",
   "metadata": {},
   "source": [
    "### Exploring a new library\n",
    "\n",
    "First thing we do when facing a new problem is looking for the appropriate tools for the job.\n",
    "\n",
    "We quickly find out about [networkx](https://networkx.org/), a famous Python library for graphs. It is well-documented and used by everyone, boasting almost 15k stars on [GitHub](https://github.com/networkx/networkx).\n",
    "\n",
    "We could definitely use networkx to model our city network as a graph, and then use one of the many algorithms from graph theory that are already implemented in the library!\n",
    "\n",
    "By looking around a bit more, though, we stumble upon [osmnx](https://osmnx.readthedocs.io/en/stable/user-reference.html). From its docs:\n",
    ">OSMnx is a Python package to easily download, model, analyze, and visualize street networks and other geospatial features from OpenStreetMap.\n",
    "\n",
    "With almost 5k stars on [GitHub](https://github.com/gboeing/osmnx), osmnx looks promising: it includes all the graph stuff from networkx, and it also has geo-spatial functionalities that will allow us to avoid having to build the city graph ourselves!\n",
    "\n",
    "Let's explore:"
   ]
  },
  {
   "cell_type": "code",
   "execution_count": null,
   "id": "2",
   "metadata": {},
   "outputs": [],
   "source": [
    "gdf = ox.features_from_place(\"Varese, Lombardia, Italy\", {\"building\": True})\n",
    "gdf"
   ]
  },
  {
   "cell_type": "markdown",
   "id": "3",
   "metadata": {},
   "source": [
    "The data that osmnx retrieves from openstreetmap is saved in a `GeoDataFrame`, the basic object from [geopandas](https://geopandas.org/en/stable/) used for storing geospatial data."
   ]
  },
  {
   "cell_type": "code",
   "execution_count": null,
   "id": "4",
   "metadata": {},
   "outputs": [],
   "source": [
    "type(gdf)"
   ]
  },
  {
   "cell_type": "markdown",
   "id": "5",
   "metadata": {},
   "source": [
    "osmnx also has very rich plotting functionalities, built upon the classic plotting library [matplotlib](https://matplotlib.org/):"
   ]
  },
  {
   "cell_type": "code",
   "execution_count": null,
   "id": "6",
   "metadata": {},
   "outputs": [],
   "source": [
    "fig, ax = ox.plot_footprints(gdf, color=\"brown\", bgcolor=\"white\")"
   ]
  },
  {
   "cell_type": "markdown",
   "id": "7",
   "metadata": {},
   "source": [
    "We managed to easily download, store and plot geospatial data about buildings in our target city of Varese. Pretty cool!"
   ]
  },
  {
   "cell_type": "markdown",
   "id": "8",
   "metadata": {},
   "source": [
    "Now let's see if we can retrieve the city streets network instead:"
   ]
  },
  {
   "cell_type": "code",
   "execution_count": null,
   "id": "9",
   "metadata": {},
   "outputs": [],
   "source": [
    "G = ox.graph_from_address(\n",
    "    address=\"Piazzale Trento, Varese, Italy\",\n",
    "    dist=2000,\n",
    "    dist_type=\"network\",\n",
    "    network_type=\"drive\",\n",
    ")"
   ]
  },
  {
   "cell_type": "markdown",
   "id": "10",
   "metadata": {},
   "source": [
    "From the documentation we understand that we are retrieving a 2000m box centered around an address: this will be the simulated location of the post office warehouse, where the mail is stored and picked up daily by our postman."
   ]
  },
  {
   "cell_type": "markdown",
   "id": "11",
   "metadata": {},
   "source": [
    "We can see that now the downloaded object is a networkx `MultiDiGraph`, i.e. a representation of a Graph which is a directed graph (because streets have a traffic direction) and also a multigraph (because there can be multiple streets linking two intersections):"
   ]
  },
  {
   "cell_type": "code",
   "execution_count": null,
   "id": "12",
   "metadata": {},
   "outputs": [],
   "source": [
    "type(G)"
   ]
  },
  {
   "cell_type": "code",
   "execution_count": null,
   "id": "13",
   "metadata": {},
   "outputs": [],
   "source": [
    "node_list = list(G.nodes())"
   ]
  },
  {
   "cell_type": "markdown",
   "id": "14",
   "metadata": {},
   "source": [
    "We can also see that nodes are referenced using integer numbers:"
   ]
  },
  {
   "cell_type": "code",
   "execution_count": null,
   "id": "15",
   "metadata": {},
   "outputs": [],
   "source": [
    "node_list[:10]"
   ]
  },
  {
   "cell_type": "markdown",
   "id": "16",
   "metadata": {},
   "source": [
    "Again, the plotting functionality gives us a nice visualization of our network:"
   ]
  },
  {
   "cell_type": "code",
   "execution_count": null,
   "id": "17",
   "metadata": {},
   "outputs": [],
   "source": [
    "fig, ax = ox.plot_graph(G)"
   ]
  },
  {
   "cell_type": "markdown",
   "id": "18",
   "metadata": {},
   "source": [
    "But we can also get back the geospatial information from the graph:"
   ]
  },
  {
   "cell_type": "code",
   "execution_count": null,
   "id": "19",
   "metadata": {},
   "outputs": [],
   "source": [
    "node_gdf, edge_gdf = ox.graph_to_gdfs(G)"
   ]
  },
  {
   "cell_type": "code",
   "execution_count": null,
   "id": "20",
   "metadata": {},
   "outputs": [],
   "source": [
    "node_gdf.head(5)"
   ]
  },
  {
   "cell_type": "code",
   "execution_count": null,
   "id": "21",
   "metadata": {},
   "outputs": [],
   "source": [
    "edge_gdf.head(5)"
   ]
  },
  {
   "cell_type": "markdown",
   "id": "22",
   "metadata": {},
   "source": [
    "Now let's select some destinations at random for our deliveries.\n",
    "\n",
    "We'll assume that all destinations lie at street intersections; this makes the code easier, since we already have them as nodes, but it can be generalised easily with destinations lying on graph edges.\n",
    "\n",
    "We also use a random seed to ensure reproducibility."
   ]
  },
  {
   "cell_type": "code",
   "execution_count": null,
   "id": "23",
   "metadata": {},
   "outputs": [],
   "source": [
    "import random\n",
    "from random import sample\n",
    "\n",
    "random.seed(1)\n",
    "starting_node = list(G.nodes)[0]\n",
    "destination_nodes = sample(node_list, 8)\n",
    "delivery_nodes = [starting_node] + destination_nodes"
   ]
  },
  {
   "cell_type": "code",
   "execution_count": null,
   "id": "24",
   "metadata": {},
   "outputs": [],
   "source": [
    "delivery_nodes"
   ]
  },
  {
   "cell_type": "markdown",
   "id": "25",
   "metadata": {},
   "source": [
    "We can use `osmnx` plotting functionalities to highlight the starting point and the delivery points on the map:"
   ]
  },
  {
   "cell_type": "code",
   "execution_count": null,
   "id": "26",
   "metadata": {},
   "outputs": [],
   "source": [
    "ox.plot.plot_graph(\n",
    "    G,\n",
    "    node_color=[\n",
    "        \"blue\" if n == starting_node else \"red\" if n in delivery_nodes else \"white\"\n",
    "        for n in G.nodes()\n",
    "    ],\n",
    "    node_alpha=[1 if n in delivery_nodes else 0.5 for n in G.nodes()],\n",
    "    node_size=[\n",
    "        100 if n == starting_node else 50 if n in delivery_nodes else 20\n",
    "        for n in G.nodes()\n",
    "    ],\n",
    ")"
   ]
  },
  {
   "cell_type": "markdown",
   "id": "27",
   "metadata": {},
   "source": [
    "As we mentioned before, the problem of planning multiple deliveries is a famous one and its called **Traveling salesman problem** in the literature, or TSP.\n",
    "\n",
    "It is a famously hard problem, unsolvable with efficient algorithms, and getting exponentially harder the more destinations need to be visited.\n",
    "\n",
    "With networkx we have the `traveling_salesman_problem` function that tries to solve the problem approximately, using one of several known algorithms:"
   ]
  },
  {
   "cell_type": "code",
   "execution_count": null,
   "id": "28",
   "metadata": {},
   "outputs": [],
   "source": [
    "from networkx.algorithms.approximation import traveling_salesman_problem\n",
    "\n",
    "help(traveling_salesman_problem)"
   ]
  },
  {
   "cell_type": "code",
   "execution_count": null,
   "id": "29",
   "metadata": {},
   "outputs": [],
   "source": [
    "best_route = traveling_salesman_problem(\n",
    "    G,\n",
    "    nodes=delivery_nodes,\n",
    "    cycle=True,\n",
    "    method=nx.approximation.simulated_annealing_tsp,\n",
    "    init_cycle=\"greedy\",\n",
    "    seed=1,\n",
    ")"
   ]
  },
  {
   "cell_type": "markdown",
   "id": "30",
   "metadata": {},
   "source": [
    "Huh? This is a horrible error!\n",
    "\n",
    "`NetworkXError: G is not strongly connected`\n",
    "\n",
    "By inspecting the *stack trace* we see that the code breaks by raising a custom `NetworkXError` after failing the following check:"
   ]
  },
  {
   "cell_type": "code",
   "execution_count": null,
   "id": "31",
   "metadata": {},
   "outputs": [],
   "source": [
    "nx.is_strongly_connected(G)"
   ]
  },
  {
   "cell_type": "markdown",
   "id": "32",
   "metadata": {},
   "source": [
    "As it turns out, the street network of the area we selected is not [**strongly connected**](https://en.wikipedia.org/wiki/Strongly_connected_component#:~:text=A%20directed%20graph%20is%20called,second%20vertex%20to%20the%20first.), meaning that there is at least a pair of nodes that cannot be linked.\n",
    "\n",
    "This property is necessary for the solvability of a routing problem such as the TSP.\n",
    "\n",
    "In practical terms, this means that there are two points in the area that cannot be connected by driving from one to the other.\n",
    "\n",
    "This should be investigated but it's probably an artifact caused by some mapping error or due to some minor driveway; in any case, for our purposes we can \"clean\" the graph by removing all disconnected components except the main one, which still resembles our original map:"
   ]
  },
  {
   "cell_type": "code",
   "execution_count": null,
   "id": "33",
   "metadata": {},
   "outputs": [],
   "source": [
    "G_conn = ox.truncate.largest_component(G, strongly=True)\n",
    "nx.is_strongly_connected(G_conn)"
   ]
  },
  {
   "cell_type": "code",
   "execution_count": null,
   "id": "34",
   "metadata": {},
   "outputs": [],
   "source": [
    "fig, ax = ox.plot_graph(G_conn)"
   ]
  },
  {
   "cell_type": "markdown",
   "id": "35",
   "metadata": {},
   "source": [
    "We should be ready now to try and solve the problem! Let's try again:"
   ]
  },
  {
   "cell_type": "code",
   "execution_count": null,
   "id": "36",
   "metadata": {},
   "outputs": [],
   "source": [
    "%%time\n",
    "best_route = traveling_salesman_problem(\n",
    "    G_conn,\n",
    "    nodes=delivery_nodes,\n",
    "    cycle=True,\n",
    "    method=nx.approximation.simulated_annealing_tsp,\n",
    "    init_cycle=\"greedy\",\n",
    "    seed=1,\n",
    ")"
   ]
  },
  {
   "cell_type": "markdown",
   "id": "37",
   "metadata": {},
   "source": [
    "The output format of the solving function is the list of nodes that the salesman (postman) needs to traverse.\n",
    "\n",
    "We notice that the first one is not the starting point, since there is no way to specify it in the solving function:"
   ]
  },
  {
   "cell_type": "code",
   "execution_count": null,
   "id": "38",
   "metadata": {},
   "outputs": [],
   "source": [
    "best_route[:5]"
   ]
  },
  {
   "cell_type": "markdown",
   "id": "39",
   "metadata": {},
   "source": [
    "But we added the starting point as a destination to visit, so we can reorder the best route to make it start from there:"
   ]
  },
  {
   "cell_type": "code",
   "execution_count": null,
   "id": "40",
   "metadata": {},
   "outputs": [],
   "source": [
    "def reorder_route(route: list[int], starting_node: int) -> list[int]:\n",
    "    return (\n",
    "        route[route.index(starting_node) : -1]\n",
    "        + route[: route.index(starting_node)]\n",
    "        + [starting_node]\n",
    "    )"
   ]
  },
  {
   "cell_type": "code",
   "execution_count": null,
   "id": "41",
   "metadata": {},
   "outputs": [],
   "source": [
    "best_route_reordered = reorder_route(best_route, starting_node)"
   ]
  },
  {
   "cell_type": "code",
   "execution_count": null,
   "id": "42",
   "metadata": {},
   "outputs": [],
   "source": [
    "best_route_reordered[:5]"
   ]
  },
  {
   "cell_type": "markdown",
   "id": "43",
   "metadata": {},
   "source": [
    "and now we can visualize the best route again using a convenient plotting function:"
   ]
  },
  {
   "cell_type": "code",
   "execution_count": null,
   "id": "44",
   "metadata": {},
   "outputs": [],
   "source": [
    "ox.plot.plot_graph_route(\n",
    "    G_conn,\n",
    "    best_route_reordered,\n",
    "    route_color=\"green\",\n",
    "    route_linewidth=4,\n",
    "    route_alpha=0.5,\n",
    "    orig_dest_size=4,\n",
    "    node_color=[\n",
    "        \"blue\" if n == starting_node else \"red\" if n in delivery_nodes else \"white\"\n",
    "        for n in G_conn.nodes()\n",
    "    ],\n",
    "    node_alpha=[1 if n in delivery_nodes else 0.5 for n in G_conn.nodes()],\n",
    "    node_size=[\n",
    "        100 if n == starting_node else 50 if n in delivery_nodes else 20\n",
    "        for n in G_conn.nodes()\n",
    "    ],\n",
    ")"
   ]
  },
  {
   "cell_type": "markdown",
   "id": "45",
   "metadata": {},
   "source": [
    "Not bad! We can't know if the solution is the optimal one or even how suboptimal it is, but it looks reasonable enough and not at all obvious."
   ]
  },
  {
   "cell_type": "markdown",
   "id": "46",
   "metadata": {},
   "source": [
    "Well now we have a nice and usable solution, but `osmnx` is really cool and we want to do some more exploration of its features.\n",
    "\n",
    "For example, by inspecting the data associated to each edge in the graph, we see that by it attached by default some interesting stuff when it downloaded the map:"
   ]
  },
  {
   "cell_type": "code",
   "execution_count": null,
   "id": "47",
   "metadata": {},
   "outputs": [],
   "source": [
    "G_conn.get_edge_data(*list(G.edges)[0])"
   ]
  },
  {
   "cell_type": "markdown",
   "id": "48",
   "metadata": {},
   "source": [
    "If each edge has speed limits (`maxspeed`) and `length` attributes, we could use them to compute the time it takes to traverse each street, and then use this time as a goal for the TSP optimisation.\n",
    "\n",
    "After all, in real life we don't actually aim at optimising the number of streets our postman has to drive through, but rather the time it takes to deliver all the mail!\n",
    "\n",
    "And lo and behold, once again there's a function in `osmnx` that does this for us: `add_edge_travel_times`."
   ]
  },
  {
   "cell_type": "code",
   "execution_count": null,
   "id": "49",
   "metadata": {},
   "outputs": [],
   "source": [
    "help(ox.routing.add_edge_travel_times)"
   ]
  },
  {
   "cell_type": "markdown",
   "id": "50",
   "metadata": {},
   "source": [
    "Following the documentation, we should execute the following two functions to get what we want:"
   ]
  },
  {
   "cell_type": "code",
   "execution_count": null,
   "id": "51",
   "metadata": {},
   "outputs": [],
   "source": [
    "G_conn = ox.routing.add_edge_speeds(G_conn)\n",
    "G_conn = ox.routing.add_edge_travel_times(G_conn)"
   ]
  },
  {
   "cell_type": "markdown",
   "id": "52",
   "metadata": {},
   "source": [
    "Now `speed_kph` and `travel_time` are added to the edges' data dictionaries..."
   ]
  },
  {
   "cell_type": "code",
   "execution_count": null,
   "id": "53",
   "metadata": {},
   "outputs": [],
   "source": [
    "G_conn.get_edge_data(*list(G.edges)[0])"
   ]
  },
  {
   "cell_type": "markdown",
   "id": "54",
   "metadata": {},
   "source": [
    "... and we can pass the name of the attribute we want to use as weight, i.e. `travel_time`, to the algorithm:"
   ]
  },
  {
   "cell_type": "code",
   "execution_count": null,
   "id": "55",
   "metadata": {},
   "outputs": [],
   "source": [
    "%%time\n",
    "best_route_weighted = traveling_salesman_problem(\n",
    "    G_conn,\n",
    "    nodes=delivery_nodes,\n",
    "    weight=\"travel_time\",\n",
    "    cycle=True,\n",
    "    method=nx.approximation.simulated_annealing_tsp,\n",
    "    init_cycle=\"greedy\",\n",
    "    seed=1,\n",
    ")"
   ]
  },
  {
   "cell_type": "markdown",
   "id": "56",
   "metadata": {},
   "source": [
    "Again, let's reorder the solution and plot it."
   ]
  },
  {
   "cell_type": "code",
   "execution_count": null,
   "id": "57",
   "metadata": {},
   "outputs": [],
   "source": [
    "best_route_weighted_reordered = reorder_route(best_route_weighted, starting_node)"
   ]
  },
  {
   "cell_type": "code",
   "execution_count": null,
   "id": "58",
   "metadata": {},
   "outputs": [],
   "source": [
    "ox.plot.plot_graph_route(\n",
    "    G_conn,\n",
    "    best_route_weighted_reordered,\n",
    "    route_color=\"orange\",\n",
    "    route_linewidth=4,\n",
    "    route_alpha=0.5,\n",
    "    orig_dest_size=4,\n",
    "    node_color=[\n",
    "        \"blue\" if n == starting_node else \"red\" if n in delivery_nodes else \"white\"\n",
    "        for n in G_conn.nodes()\n",
    "    ],\n",
    "    node_alpha=[1 if n in delivery_nodes else 0.5 for n in G_conn.nodes()],\n",
    "    node_size=[\n",
    "        100 if n == starting_node else 50 if n in delivery_nodes else 20\n",
    "        for n in G_conn.nodes()\n",
    "    ],\n",
    ")"
   ]
  },
  {
   "cell_type": "markdown",
   "id": "59",
   "metadata": {},
   "source": [
    "Finally, let's compare the two solutions to see if they are any different:"
   ]
  },
  {
   "cell_type": "code",
   "execution_count": null,
   "id": "60",
   "metadata": {},
   "outputs": [],
   "source": [
    "ox.plot.plot_graph_routes(\n",
    "    G_conn,\n",
    "    [best_route_reordered, best_route_weighted_reordered],\n",
    "    route_colors=[\"green\", \"orange\"],\n",
    "    route_linewidth=4,\n",
    "    route_alpha=0.5,\n",
    "    orig_dest_size=4,\n",
    "    node_color=[\n",
    "        \"blue\" if n == starting_node else \"red\" if n in delivery_nodes else \"white\"\n",
    "        for n in G_conn.nodes()\n",
    "    ],\n",
    "    node_alpha=[1 if n in delivery_nodes else 0.5 for n in G_conn.nodes()],\n",
    "    node_size=[\n",
    "        100 if n == starting_node else 50 if n in delivery_nodes else 20\n",
    "        for n in G_conn.nodes()\n",
    "    ],\n",
    ")"
   ]
  },
  {
   "cell_type": "markdown",
   "id": "61",
   "metadata": {},
   "source": [
    "Even though these are approximate solutions and we are not exactly able to evaluate their quality just by looking at them, it's still interesting to be able to pick up some of the differences: for example, the eastern section of the route seems to be longer in the standard \"topological\" solution compared to the weighted \"geographical\" one, where travel times favor passing through more central streets."
   ]
  },
  {
   "cell_type": "markdown",
   "id": "62",
   "metadata": {},
   "source": [
    "What would our next steps be if we wanted to get an even better solutions?"
   ]
  },
  {
   "cell_type": "code",
   "execution_count": null,
   "id": "63",
   "metadata": {},
   "outputs": [],
   "source": []
  }
 ],
 "metadata": {
  "kernelspec": {
   "display_name": "Python 3 (ipykernel)",
   "language": "python",
   "name": "python3"
  },
  "language_info": {
   "codemirror_mode": {
    "name": "ipython",
    "version": 3
   },
   "file_extension": ".py",
   "mimetype": "text/x-python",
   "name": "python",
   "nbconvert_exporter": "python",
   "pygments_lexer": "ipython3",
   "version": "3.11.4"
  }
 },
 "nbformat": 4,
 "nbformat_minor": 5
}
