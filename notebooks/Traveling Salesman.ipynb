{
 "cells": [
  {
   "cell_type": "code",
   "execution_count": null,
   "id": "36bb8e9a-80da-4f6d-be9e-edd2cb695f66",
   "metadata": {},
   "outputs": [],
   "source": [
    "import osmnx as ox\n",
    "import networkx as nx"
   ]
  },
  {
   "cell_type": "markdown",
   "id": "84afb7a8-f376-4b8b-a9b0-ccb4b3f32259",
   "metadata": {},
   "source": [
    "### Exploring a new library\n",
    "\n",
    "First thing we do when facing a new problem is looking for the appropriate tools for the job.\n",
    "\n",
    "We quickly find out about [networkx](https://networkx.org/), a famous Python library for graphs. It is well-documented and used by everyone, boasting almost 15k stars on [GitHub](https://github.com/networkx/networkx).\n",
    "\n",
    "We could definitely use networkx to model our city network as a graph, and then use one of the many algorithms from graph theory that are already implemented in the library!\n",
    "\n",
    "By looking around a bit more, though, we stumble upon [osmnx](https://osmnx.readthedocs.io/en/stable/user-reference.html). From its docs:\n",
    ">OSMnx is a Python package to easily download, model, analyze, and visualize street networks and other geospatial features from OpenStreetMap.\n",
    "\n",
    "With almost 5k stars on [GitHub](https://github.com/gboeing/osmnx), osmnx looks promising: it includes all the graph stuff from networkx, and it also has geo-spatial functionalities that will allow us to avoid having to build the city graph ourselves!\n",
    "\n",
    "Let's explore:"
   ]
  },
  {
   "cell_type": "code",
   "execution_count": null,
   "id": "3c93dc0f-ceb3-4a25-81ec-e9a94b5fe043",
   "metadata": {},
   "outputs": [],
   "source": [
    "gdf = ox.features_from_place(\"Varese, Lombardia, Italy\", {\"building\": True})\n",
    "gdf"
   ]
  },
  {
   "cell_type": "markdown",
   "id": "8aacb274-a615-4bad-b22e-16a33426d03c",
   "metadata": {},
   "source": [
    "The data that osmnx retrieves from openstreetmap is saved in a `GeoDataFrame`, the basic object from [geopandas](https://geopandas.org/en/stable/) used for storing geospatial data."
   ]
  },
  {
   "cell_type": "code",
   "execution_count": null,
   "id": "5478947d-b624-4b6a-baab-8f1a62767359",
   "metadata": {},
   "outputs": [],
   "source": [
    "type(gdf)"
   ]
  },
  {
   "cell_type": "markdown",
   "id": "81a790c1-87a6-4fc4-96fd-54177bb40311",
   "metadata": {},
   "source": [
    "osmnx also has very rich plotting functionalities, built upon the classic plotting library [matplotlib](https://matplotlib.org/):"
   ]
  },
  {
   "cell_type": "code",
   "execution_count": null,
   "id": "a962de28-5e02-47dd-8933-10c7165150fd",
   "metadata": {},
   "outputs": [],
   "source": [
    "fig, ax = ox.plot_footprints(gdf, color='brown', bgcolor='white')"
   ]
  },
  {
   "cell_type": "markdown",
   "id": "8fea9f38-6d4f-4db6-8088-445701488f05",
   "metadata": {},
   "source": [
    "We managed to easily download, store and plot geospatial data about buildings in our target city of Varese. Pretty cool!"
   ]
  },
  {
   "cell_type": "markdown",
   "id": "e932a432-101e-4e2e-9c0e-3ade821ea547",
   "metadata": {},
   "source": [
    "Now let's see if we can retrieve the city streets network instead:"
   ]
  },
  {
   "cell_type": "code",
   "execution_count": null,
   "id": "5c77d04f-f57f-49d1-a29d-14d815e9fbfe",
   "metadata": {},
   "outputs": [],
   "source": [
    "G = ox.graph_from_address(\n",
    "    address=\"Piazzale Trento, Varese, Italy\",\n",
    "    dist=2000,\n",
    "    dist_type=\"network\",\n",
    "    network_type=\"drive\",\n",
    ")"
   ]
  },
  {
   "cell_type": "markdown",
   "id": "3848f9bf-f603-46c1-87f2-786c2adb0c6f",
   "metadata": {},
   "source": [
    "From the documentation we understand that we are retrieving a 2000m box centered around an address: this will be the simulated location of the post office warehouse, where the mail is stored and picked up daily by our postman."
   ]
  },
  {
   "cell_type": "markdown",
   "id": "1c06803a-78cb-4c55-9045-4a6631935713",
   "metadata": {},
   "source": [
    "We can see that now the downloaded object is a networkx `MultiDiGraph`, i.e. a representation of a Graph which is a directed graph (because streets have a traffic direction) and also a multigraph (because there can be multiple streets linking two intersections):"
   ]
  },
  {
   "cell_type": "code",
   "execution_count": null,
   "id": "280795de-aab6-45df-bbeb-ad332c5507a3",
   "metadata": {},
   "outputs": [],
   "source": [
    "type(G)"
   ]
  },
  {
   "cell_type": "code",
   "execution_count": null,
   "id": "5e4cb1e3-f3dc-4ee5-922c-ab0ab0316c30",
   "metadata": {},
   "outputs": [],
   "source": [
    "node_list = list(G.nodes())"
   ]
  },
  {
   "cell_type": "markdown",
   "id": "0b9a0627-2a14-4e4e-9ecc-e92461a6f244",
   "metadata": {},
   "source": [
    "We can also see that nodes are referenced using integer numbers:"
   ]
  },
  {
   "cell_type": "code",
   "execution_count": null,
   "id": "5c3c11a7-a28d-434c-a35a-4ebe2f1bdf1e",
   "metadata": {},
   "outputs": [],
   "source": [
    "node_list[:10]"
   ]
  },
  {
   "cell_type": "markdown",
   "id": "b66b64f9-3a08-4857-9eb6-1bd5d7576f8d",
   "metadata": {},
   "source": [
    "Again, the plotting functionality gives us a nice visualization of our network:"
   ]
  },
  {
   "cell_type": "code",
   "execution_count": null,
   "id": "ab400490-5c9c-4373-9313-80972f5569e7",
   "metadata": {},
   "outputs": [],
   "source": [
    "fig, ax = ox.plot_graph(G)"
   ]
  },
  {
   "cell_type": "markdown",
   "id": "ca8dd3b1-d3b2-4f3f-8559-7777b465f530",
   "metadata": {},
   "source": [
    "But we can also get back the geospatial information from the graph:"
   ]
  },
  {
   "cell_type": "code",
   "execution_count": null,
   "id": "d3a03627-dd24-4988-aaf1-2194e96b6650",
   "metadata": {},
   "outputs": [],
   "source": [
    "node_gdf, edge_gdf = ox.graph_to_gdfs(G)"
   ]
  },
  {
   "cell_type": "code",
   "execution_count": null,
   "id": "22211359-a2e9-488b-903e-97e7e545b7a9",
   "metadata": {},
   "outputs": [],
   "source": [
    "node_gdf.head(5)"
   ]
  },
  {
   "cell_type": "code",
   "execution_count": null,
   "id": "b1c348f5-fd65-435e-8ddd-c33c923c1917",
   "metadata": {},
   "outputs": [],
   "source": [
    "edge_gdf.head(5)"
   ]
  },
  {
   "cell_type": "markdown",
   "id": "e78d1983-ec4c-42cb-8dc1-4e823ab526ba",
   "metadata": {},
   "source": [
    "Now let's select some destinations at random for our deliveries.\n",
    "\n",
    "We'll assume that all destinations lie at street intersections; this makes the code easier, since we already have them as nodes, but it can be generalised easily with destinations lying on graph edges.\n",
    "\n",
    "We also use a random seed to ensure reproducibility."
   ]
  },
  {
   "cell_type": "code",
   "execution_count": null,
   "id": "d7ba1d0c-e4f0-4df8-90de-392300531830",
   "metadata": {},
   "outputs": [],
   "source": [
    "import random\n",
    "from random import sample\n",
    "\n",
    "random.seed(1)\n",
    "starting_node = list(G.nodes)[0]\n",
    "destination_nodes = sample(node_list, 8)\n",
    "delivery_nodes = [starting_node] + destination_nodes"
   ]
  },
  {
   "cell_type": "code",
   "execution_count": null,
   "id": "e5678116-3b2c-4d97-b29b-bc888a1f407f",
   "metadata": {},
   "outputs": [],
   "source": [
    "delivery_nodes"
   ]
  },
  {
   "cell_type": "markdown",
   "id": "c4c48485-3054-4e4e-b70e-f9023258b0d9",
   "metadata": {},
   "source": [
    "As we mentioned before, the problem of planning multiple deliveries is a famous one and its called **Traveling salesman problem** in the literature, or TSP.\n",
    "\n",
    "It is a famously hard problem, unsolvable with efficient algorithms, and getting exponentially harder the more destinations need to be visited.\n",
    "\n",
    "With networkx we have the `traveling_salesman_problem` function that tries to solve the problem approximately, using one of several known algorithms:"
   ]
  },
  {
   "cell_type": "code",
   "execution_count": null,
   "id": "09e35e58-3198-484b-b3b5-9e26e8d74028",
   "metadata": {},
   "outputs": [],
   "source": [
    "from networkx.algorithms.approximation import traveling_salesman_problem\n",
    "\n",
    "help(traveling_salesman_problem)"
   ]
  },
  {
   "cell_type": "code",
   "execution_count": null,
   "id": "34760331-6467-4cab-82ca-644d0ec28337",
   "metadata": {},
   "outputs": [],
   "source": [
    "best_route = traveling_salesman_problem(\n",
    "    G,\n",
    "    nodes=delivery_nodes,\n",
    "    cycle=True,\n",
    "    method=None,\n",
    "    seed=1\n",
    "  )"
   ]
  },
  {
   "cell_type": "markdown",
   "id": "d2f6181f-f11e-49a4-9639-cd3094b495fa",
   "metadata": {},
   "source": [
    "Huh? This is a horrible error!\n",
    "\n",
    "`NetworkXError: G is not strongly connected`\n",
    "\n",
    "By inspecting the *stack trace* we see that the code breaks by raising a custom `NetworkXError` after failing the following check:"
   ]
  },
  {
   "cell_type": "code",
   "execution_count": null,
   "id": "a6eaa96f-a244-46db-b482-00d97047e1b4",
   "metadata": {},
   "outputs": [],
   "source": [
    "nx.is_strongly_connected(G)"
   ]
  },
  {
   "cell_type": "markdown",
   "id": "31b73e4e-482b-4747-85db-c9096797e386",
   "metadata": {},
   "source": [
    "As it turns out, the street network of the area we selected is not [**strongly connected**](https://en.wikipedia.org/wiki/Strongly_connected_component#:~:text=A%20directed%20graph%20is%20called,second%20vertex%20to%20the%20first.), meaning that there is at least a pair of nodes that cannot be linked.\n",
    "\n",
    "This property is necessary for the solvability of a routing problem such as the TSP. \n",
    "\n",
    "In practical terms, this means that there are two points in the area that cannot be connected by driving from one another.\n",
    "\n",
    "This should be investigated but it's probably an artifact caused by some mapping error or due to some minor driveway; in any case, for our purposes we can \"clean\" the graph by removing all disconnected components except the main one, which still resembles our original map:"
   ]
  },
  {
   "cell_type": "code",
   "execution_count": null,
   "id": "90a0abac-5c24-4682-937e-845d562e55d0",
   "metadata": {},
   "outputs": [],
   "source": [
    "G_conn = ox.truncate.largest_component(G, strongly=True)\n",
    "nx.is_strongly_connected(G_conn)"
   ]
  },
  {
   "cell_type": "code",
   "execution_count": null,
   "id": "95f263ce-1745-4879-b475-874cdf53cc92",
   "metadata": {},
   "outputs": [],
   "source": [
    "fig, ax = ox.plot_graph(G_conn)"
   ]
  },
  {
   "cell_type": "markdown",
   "id": "daad9661-6940-4b00-a16e-002a2f7dffb8",
   "metadata": {},
   "source": [
    "We should be ready now to try and solve the problem; let's first visualize again the delivery destinations."
   ]
  },
  {
   "cell_type": "code",
   "execution_count": null,
   "id": "8a8aa7b6-ac47-429a-901d-5c56718f6b02",
   "metadata": {},
   "outputs": [],
   "source": [
    "ox.plot.plot_graph(\n",
    "    G,\n",
    "    node_color = [\"red\" if n in delivery_nodes else \"white\" for n in G.nodes()],\n",
    "    node_alpha = [1 if n in delivery_nodes else 0.5 for n in G.nodes()],\n",
    "    node_size = [80 if n == starting_node else 20 for n in G.nodes()]\n",
    ")"
   ]
  },
  {
   "cell_type": "markdown",
   "id": "a6d1763b-d4b8-40df-bb76-c9abe4a8d03c",
   "metadata": {},
   "source": [
    "The destinations are quite far away and spread around the area.\n",
    "\n",
    "Will the approximate solver manage to find a good solution?"
   ]
  },
  {
   "cell_type": "code",
   "execution_count": null,
   "id": "d65b830a-cf61-4cac-82a0-8ee117a373a8",
   "metadata": {},
   "outputs": [],
   "source": [
    "%%time\n",
    "best_route = traveling_salesman_problem(\n",
    "    G_conn,\n",
    "    nodes=delivery_nodes,\n",
    "    cycle=True,\n",
    "    method=None,\n",
    "    seed=1\n",
    "  )"
   ]
  },
  {
   "cell_type": "markdown",
   "id": "b8bf9475-1a7f-4165-9ec8-e214f3686886",
   "metadata": {},
   "source": [
    "The output format of the solving function is the list of nodes that the salesman (postman) needs to traverse.\n",
    "\n",
    "We notice that the first one is not the starting point, since there is no way to specify it in the solving function:"
   ]
  },
  {
   "cell_type": "code",
   "execution_count": null,
   "id": "78704eb2-cd25-4313-a582-8bca30504684",
   "metadata": {},
   "outputs": [],
   "source": [
    "best_route[:5]"
   ]
  },
  {
   "cell_type": "markdown",
   "id": "10628aee-970e-4b1a-8f55-48b502c57af6",
   "metadata": {},
   "source": [
    "But we added the starting point as a destination to visit, so we can reorder the best route to make it start from there:"
   ]
  },
  {
   "cell_type": "code",
   "execution_count": null,
   "id": "3bd9ee18-8d05-43cc-87f4-8dab14f0677c",
   "metadata": {},
   "outputs": [],
   "source": [
    "def reorder_route(route: list[int], starting_node: int) -> list[int]:\n",
    "    return best_route[best_route.index(starting_node):-1] + best_route[:best_route.index(starting_node)] + [starting_node]"
   ]
  },
  {
   "cell_type": "code",
   "execution_count": null,
   "id": "73b3fbe5-68ff-4138-b47c-e4909dac1a74",
   "metadata": {},
   "outputs": [],
   "source": [
    "best_route_reordered = reorder_route(best_route, starting_node)"
   ]
  },
  {
   "cell_type": "code",
   "execution_count": null,
   "id": "6c0d90ee-c686-4363-bd31-865f9ad663b3",
   "metadata": {},
   "outputs": [],
   "source": [
    "best_route_reordered[:5]"
   ]
  },
  {
   "cell_type": "markdown",
   "id": "744f06f8-5994-4e7c-aa23-ea0e9fef7379",
   "metadata": {},
   "source": [
    "and now we can visualize the best route again using a convenient plotting function:"
   ]
  },
  {
   "cell_type": "code",
   "execution_count": null,
   "id": "f078de9f-6579-4ee6-9862-a004daf5be38",
   "metadata": {},
   "outputs": [],
   "source": [
    "ox.plot.plot_graph_route(G_conn, best_route_reordered, route_color='r', route_linewidth=4, route_alpha=0.5, orig_dest_size=100)"
   ]
  },
  {
   "cell_type": "markdown",
   "id": "ccdbf024-54d6-42bb-9e05-4a0a044f8516",
   "metadata": {},
   "source": [
    "Not bad! We can't know if the solution is the optimal one or even how suboptimal it is, but it looks reasonable enough and not at all obvious."
   ]
  },
  {
   "cell_type": "markdown",
   "id": "aa03a97d-35c7-4474-9462-1d3b0e4af44d",
   "metadata": {},
   "source": [
    "We already have a nice solution, but the osmnx library is really cool and we want to do some more exploration of its features.\n",
    "\n",
    "And indeed we find some interesting stuff: for example, from openstreetmap we can retrieve the max allowed speed for each street, and use it to find an even better solution to our problem by prioritizing high-speed roads over low-speed streets!"
   ]
  },
  {
   "cell_type": "code",
   "execution_count": null,
   "id": "dd64984c-c396-42e5-a796-d4130dd36c11",
   "metadata": {},
   "outputs": [],
   "source": [
    "maxspeed_feature = ox.features_from_address(\n",
    "    address=\"Piazzale Trento, Varese, Italy\",\n",
    "    tags={\"maxspeed\": True}\n",
    ")[\"maxspeed\"]"
   ]
  },
  {
   "cell_type": "code",
   "execution_count": null,
   "id": "7e18ec62-2304-45ba-85ee-6d655a4e0d87",
   "metadata": {},
   "outputs": [],
   "source": [
    "maxspeed_feature.head()"
   ]
  },
  {
   "cell_type": "code",
   "execution_count": null,
   "id": "7d4449e7-6f88-4429-922a-a438a3a0e950",
   "metadata": {},
   "outputs": [],
   "source": [
    "G_conn = ox.routing.add_edge_speeds(G_conn)\n",
    "G_conn = ox.routing.add_edge_travel_times(G_conn)"
   ]
  },
  {
   "cell_type": "code",
   "execution_count": null,
   "id": "715dede6-c56d-4cf8-921a-23776cc45f61",
   "metadata": {},
   "outputs": [],
   "source": [
    "G_conn.get_edge_data(*list(G.edges)[0])"
   ]
  },
  {
   "cell_type": "code",
   "execution_count": null,
   "id": "e481ffcd-78b6-4ce3-a65e-cca139488e00",
   "metadata": {},
   "outputs": [],
   "source": [
    "sum([G_conn.get_edge_data(*e).get(\"travel_time\") is None for e in list(G_conn.edges)])"
   ]
  },
  {
   "cell_type": "code",
   "execution_count": null,
   "id": "e6021d0c-742f-4d11-b850-80409db9c348",
   "metadata": {},
   "outputs": [],
   "source": [
    "for u, v, d in G_conn.edges(data=True):\n",
    "    G_conn[(u, v)] = d[\"travel_time\"]"
   ]
  },
  {
   "cell_type": "code",
   "execution_count": null,
   "id": "e9cda84d-96d2-4efb-a50c-d426341fb8e7",
   "metadata": {},
   "outputs": [],
   "source": [
    "%%time\n",
    "best_route_weighted = traveling_salesman_problem(\n",
    "    G_conn,\n",
    "    nodes=delivery_nodes,\n",
    "    weight=\"travel_time\",\n",
    "    cycle=True,\n",
    "    method=None,\n",
    "    seed=1\n",
    "  )"
   ]
  },
  {
   "cell_type": "code",
   "execution_count": null,
   "id": "e709fc07-5406-4944-8ee2-e29c4304e534",
   "metadata": {},
   "outputs": [],
   "source": [
    "best_route_weighted_reordered = reorder_route(best_route_weighted, starting_node)"
   ]
  },
  {
   "cell_type": "code",
   "execution_count": null,
   "id": "726bbd33-696d-46c0-b6a1-bdb679b9d58d",
   "metadata": {},
   "outputs": [],
   "source": [
    "ox.plot.plot_graph_route(G_weighted, best_route_weighted_reordered, route_color='r', route_linewidth=4, route_alpha=0.5, orig_dest_size=100)"
   ]
  },
  {
   "cell_type": "code",
   "execution_count": null,
   "id": "da955a2e-e334-44bb-99d7-1c24aa2185db",
   "metadata": {},
   "outputs": [],
   "source": []
  }
 ],
 "metadata": {
  "kernelspec": {
   "display_name": "Python 3 (ipykernel)",
   "language": "python",
   "name": "python3"
  },
  "language_info": {
   "codemirror_mode": {
    "name": "ipython",
    "version": 3
   },
   "file_extension": ".py",
   "mimetype": "text/x-python",
   "name": "python",
   "nbconvert_exporter": "python",
   "pygments_lexer": "ipython3",
   "version": "3.11.4"
  }
 },
 "nbformat": 4,
 "nbformat_minor": 5
}
